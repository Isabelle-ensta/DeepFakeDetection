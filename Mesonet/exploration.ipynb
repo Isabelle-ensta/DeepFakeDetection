{
 "cells": [
  {
   "cell_type": "code",
   "execution_count": null,
   "metadata": {},
   "outputs": [],
   "source": [
    "!/Users/taoguinot/miniconda3/bin/python -m pip install --upgrade pip\n",
    "!/Users/taoguinot/miniconda3/bin/python -m pip install torch\n",
    "!/Users/taoguinot/miniconda3/bin/python -m pip install torchvision"
   ]
  },
  {
   "cell_type": "code",
   "execution_count": null,
   "metadata": {},
   "outputs": [],
   "source": [
    "!pip show torch\n"
   ]
  },
  {
   "cell_type": "code",
   "execution_count": null,
   "metadata": {},
   "outputs": [],
   "source": [
    "!which python"
   ]
  },
  {
   "cell_type": "code",
   "execution_count": null,
   "metadata": {},
   "outputs": [],
   "source": [
    "import torch\n",
    "import torch.nn as nn\n",
    "import torchvision\n",
    "from torch.utils.data import DataLoader\n",
    "import torch.optim as optim\n",
    "from torch.optim import lr_scheduler\n",
    "import argparse\n",
    "import os\n",
    "from torchvision import datasets, models, transforms\n",
    "from network.classifier import *\n",
    "from network.transform import mesonet_data_transforms"
   ]
  },
  {
   "cell_type": "code",
   "execution_count": null,
   "metadata": {},
   "outputs": [],
   "source": [
    "train_path=\"./data/train\"\n",
    "val_path =\"./data/val\"\n",
    "batch_size = 64\n",
    "epoches = 50\n",
    "output_path = \"./output/mesonet/best.pkl\"\n",
    "model_name = \"Mesonet4.pkl\""
   ]
  },
  {
   "cell_type": "code",
   "execution_count": null,
   "metadata": {},
   "outputs": [],
   "source": [
    "train_dataset = torchvision.datasets.ImageFolder(train_path, transform=mesonet_data_transforms['train'])\n",
    "val_dataset = torchvision.datasets.ImageFolder(val_path, transforms=mesonet_data_transforms['val'])\n",
    "train_loader = torch.utils.data.DataLoader(train_dataset, batch_size=batch_size, shuffle=True, drop_last=False, num_workers=8)\n",
    "val_loader = torch.utils.data.DataLoader(val_dataset, batch_size=batch_size, shuffle=True, drop_last=False, num_workers=8)\n",
    "train_dataset_size = len(train_dataset)\n",
    "val_dataset_size = len(val_dataset)"
   ]
  },
  {
   "cell_type": "code",
   "execution_count": null,
   "metadata": {},
   "outputs": [],
   "source": [
    "# model\n",
    "model = Meso4()\n",
    "model = model.cuda()\n",
    "criterion = nn.CrossEntropyLoss() # classification problem\n",
    "optimizer = optim.Adam(model.parameters(), lr=0.001, betas=(0.9, 0.99), eps=1e-8)\n",
    "scheduler = lr_scheduler.StepLR(optimizer, step_size=5, gamma=0.5)"
   ]
  },
  {
   "cell_type": "code",
   "execution_count": null,
   "metadata": {},
   "outputs": [],
   "source": [
    "best_model_weights = model.state_dict()\n",
    "best_acc = 0.0\n",
    "iter = 0\n",
    "\n",
    "for epoch in range(epoches):\n",
    "    print(f\"Epoch {epoch+1}/{epoches}\")\n",
    "    model = model.train()\n",
    "    train_loss = 0.0\n",
    "    train_corrects = 0.0\n",
    "    val_loss = 0.0\n",
    "    val_corrects = 0.0\n",
    "    for (image, labels) in train_dataset:\n",
    "        iter_loss = 0.0\n",
    "        iterr_corrects = 0.0\n",
    "        image = image.cuda()\n",
    "        labels = labels.cuda()\n",
    "        optimizer.zero_grad()\n",
    "        outputs = model(image)\n",
    "        _, preds = torch.max(outputs.data, 1)\n",
    "        loss = criterion(outputs, labels)\n",
    "        loss.backward()\n",
    "        optimizer.step()\n",
    "        iter_loss = loss.data.item()\n",
    "        train_loss += iter_loss\n",
    "        iter_corrects = torch.sum(preds == labels.data).to(torch.float32)\n",
    "        train_corrects += iter_corrects\n",
    "        iter += 1\n",
    "    epoch_loss = train_loss / train_dataset_size\n",
    "    epoch_acc = train_corrects / train_dataset_size\n",
    "    print(f\"Epoch train loss: {epoch_loss}; Acc: {epoch_acc}\\n\\n\")\n",
    "\n",
    "    model.eval()\n",
    "    with torch.no_grad():\n",
    "        for (image, labels) in val_loader:\n",
    "            image = image.cuda()\n",
    "            labels = labels.cuda()\n",
    "            outputs = model(image)\n",
    "            _, preds = torch.max(outputs.data, 1)\n",
    "            loss = criterion(outputs, labels)\n",
    "            val_loss += loss.data.item()\n",
    "            val_corrects += torch.sum(preds == labels.data).to(torch.float32)\n",
    "        epoch_loss = val_loss / val_dataset_size\n",
    "        epoch_acc = val_corrects / val_dataset_size\n",
    "        print('epoch val loss: {:.4f} Acc: {:.4f}'.format(epoch_loss, epoch_acc))\n",
    "        if epoch_acc > best_acc:\n",
    "            best_acc = epoch_acc\n",
    "            best_model_wts = model.state_dict()\n",
    "    scheduler.step()\n",
    "    if not (epoch % 10):\n",
    "    #Save the model trained with multiple gpu\n",
    "    #torch.save(model.module.state_dict(), os.path.join(output_path, str(epoch) + '_' + model_name))\n",
    "        torch.save(model.state_dict(), os.path.join(output_path, str(epoch) + '_' + model_name))\n",
    "print('Best val Acc: {:.4f}'.format(best_acc))\n",
    "model.load_state_dict(best_model_wts)\n",
    "#torch.save(model.module.state_dict(), os.path.join(output_path, \"best.pkl\"))\n",
    "torch.save(model.state_dict(), os.path.join(output_path, \"best.pkl\"))\n",
    "\n"
   ]
  }
 ],
 "metadata": {
  "kernelspec": {
   "display_name": "base",
   "language": "python",
   "name": "python3"
  },
  "language_info": {
   "codemirror_mode": {
    "name": "ipython",
    "version": 3
   },
   "file_extension": ".py",
   "mimetype": "text/x-python",
   "name": "python",
   "nbconvert_exporter": "python",
   "pygments_lexer": "ipython3",
   "version": "3.12.7"
  }
 },
 "nbformat": 4,
 "nbformat_minor": 2
}
